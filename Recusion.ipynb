{
  "nbformat": 4,
  "nbformat_minor": 0,
  "metadata": {
    "colab": {
      "name": "Copy of Recusion.ipynb",
      "provenance": []
    },
    "kernelspec": {
      "name": "python3",
      "display_name": "Python 3"
    },
    "language_info": {
      "name": "python"
    }
  },
  "cells": [
    {
      "cell_type": "markdown",
      "metadata": {
        "id": "CeUX-2bmb5PB"
      },
      "source": [
        "### Intro to recursion.\n",
        "\n",
        "\n",
        "**What is recursion?**\n",
        "Recursion is a central concept in programming. Typically, you will use recursion in a similar way that you would a `for` loop. It is a way to perform a small task repeatedly over a task.\n"
      ]
    },
    {
      "cell_type": "code",
      "metadata": {
        "id": "3VofYh3JboEj"
      },
      "source": [
        "import numpy as np\n",
        "import pandas as pd\n",
        "import matplotlib.pyplot as plt\n"
      ],
      "execution_count": null,
      "outputs": []
    },
    {
      "cell_type": "markdown",
      "metadata": {
        "id": "S7Dpsw7nz4Mw"
      },
      "source": [
        "### Example - simple recursive addition\n",
        "\n",
        "----\n",
        "\n",
        "Compute the sum of 1 to $n$ recursively:\n",
        "\n",
        "Base case is when $n = 1$:\n",
        "- sum for first 1 number from (1 to 1) is 1\n",
        "\n",
        "When $n = 2$:\n",
        "- Add 2 to the result we found in $n=1$\n",
        "\n",
        "General case is when $n = n$, for n > 1:\n",
        "\n",
        "- Add $x_n$ to the result found in $n-1$\n",
        "\n",
        "Mathematical notation for the addition of the numbers $1$ to $n$:\n",
        "\n",
        "$$\\Sigma_{k=1}^n x_k$$\n"
      ]
    },
    {
      "cell_type": "code",
      "metadata": {
        "id": "T4yeSYQ-b36q"
      },
      "source": [
        "def recursive_sum(n = 1, total = 0):\n",
        "  # throw an error if n is not a positive integer\n",
        "  assert isinstance(n, int) and n > 0, \"Error: highest number to add must be a positive integer\"\n",
        "\n",
        "  # add the last total to the current number k to add\n",
        "  total += n\n",
        "  if n > 1:  \n",
        "    return recursive_sum(n - 1, total)\n",
        "\n",
        "  else:\n",
        "    return total\n",
        "    \n",
        "    \n",
        "    "
      ],
      "execution_count": null,
      "outputs": []
    },
    {
      "cell_type": "markdown",
      "metadata": {
        "id": "KWNhblJdkE3s"
      },
      "source": [
        "Let's test our function with different numbers for $n$:"
      ]
    },
    {
      "cell_type": "code",
      "metadata": {
        "id": "NlI8OqSW5WAC",
        "colab": {
          "base_uri": "https://localhost:8080/"
        },
        "outputId": "50ba8087-3fc6-474e-dbb2-88e2a58a5fd8"
      },
      "source": [
        "# n = 1\n",
        "n_1 = recursive_sum(n = 1)\n",
        "\n",
        "# n = 3\n",
        "n_3 = recursive_sum(n = 3)\n",
        "\n",
        "# n = 5\n",
        "n_5 = recursive_sum(n = 5)\n",
        "\n",
        "# n = 100\n",
        "n_100 = recursive_sum(n = 100)\n",
        "\n",
        "\n",
        "# Make an f-string to print all our results neatly\n",
        "res = f\"The addition of number 1 to number n is, for: \\n\\t n = 1: {n_1}\\n\\t \"\n",
        "ults = f\"n = 3: {n_3} \\n\\t n = 5: {n_5} \\n\\t n = 100: {n_100}\"\n",
        "\n",
        "results = res + ults\n",
        "\n",
        "print(results)\n",
        "\n",
        "\n",
        "\n"
      ],
      "execution_count": null,
      "outputs": [
        {
          "output_type": "stream",
          "name": "stdout",
          "text": [
            "The addition of number 1 to number n is, for: \n",
            "\t n = 1: 1\n",
            "\t n = 3: 6 \n",
            "\t n = 5: 15 \n",
            "\t n = 100: 5050\n"
          ]
        }
      ]
    },
    {
      "cell_type": "markdown",
      "metadata": {
        "id": "IXbzGBbSpp1C"
      },
      "source": [
        "As an aside, I have a little trick to add number 1 to n, without recursion or loops:"
      ]
    },
    {
      "cell_type": "code",
      "metadata": {
        "id": "ulaGF7mFf908"
      },
      "source": [
        "def add_trick(n = 1):\n",
        "  total = (n*(n + 1))/2\n",
        "  return total"
      ],
      "execution_count": null,
      "outputs": []
    },
    {
      "cell_type": "code",
      "metadata": {
        "colab": {
          "base_uri": "https://localhost:8080/"
        },
        "id": "mePIuw93q60y",
        "outputId": "08ca7455-109f-4f96-a40b-efd469dcaf1e"
      },
      "source": [
        "# n = 1\n",
        "n_1 = add_trick(n = 1)\n",
        "\n",
        "# n = 3\n",
        "n_3 = add_trick(n = 3)\n",
        "\n",
        "# n = 5\n",
        "n_5 = add_trick(n = 5)\n",
        "\n",
        "# n = 100\n",
        "n_100 = add_trick(n = 100)\n",
        "\n",
        "\n",
        "# Make an f-string to print all our results neatly\n",
        "res = f\"The addition of number 1 to number n is, for: \\n\\t n = 1: {n_1}\\n\\t \"\n",
        "ults = f\"n = 3: {n_3} \\n\\t n = 5: {n_5} \\n\\t n = 100: {n_100}\"\n",
        "\n",
        "results = res + ults\n",
        "\n",
        "print(results)\n",
        "\n"
      ],
      "execution_count": null,
      "outputs": [
        {
          "output_type": "stream",
          "name": "stdout",
          "text": [
            "The addition of number 1 to number n is, for: \n",
            "\t n = 1: 1.0\n",
            "\t n = 3: 6.0 \n",
            "\t n = 5: 15.0 \n",
            "\t n = 100: 5050.0\n"
          ]
        }
      ]
    },
    {
      "cell_type": "markdown",
      "metadata": {
        "id": "_kmnb93erUJ2"
      },
      "source": [
        "Voilà! The one difference is that the result is a float, not an integer. This is because python assumes the result of a division is a float (because of the potential decimal number). You can 'fix' this by doing `int((n*(n+1))/2)` in the function, or `int(n_3)` with the message."
      ]
    },
    {
      "cell_type": "markdown",
      "metadata": {
        "id": "YSaQo98qsrcF"
      },
      "source": [
        "----\n",
        "\n",
        "#### Test your understanding by making two recursive functions:\n",
        "\n",
        "- **Fibonacci Numbers**\n",
        "- **Tower of Hanoi**\n",
        "\n"
      ]
    },
    {
      "cell_type": "markdown",
      "metadata": {
        "id": "ortbZgvwsvcF"
      },
      "source": [
        "### Fibonacci Numbers\n",
        "\n",
        "Fibonacci numbers is a famous number sequence that is closely related to the golden ratio. It's found everywhere in nature, in pinapple, pinecones, ferns. (See [images](https://www.google.com/search?q=fibonacci+sequence+in+nature&client=opera-gx&hs=RMc&sxsrf=AOaemvIHMb_CFIyNgnWWEVxmHKK4L9-lzg:1630455511779&tbm=isch&source=iu&ictx=1&fir=qSA2ptETwgeNkM%252CYAlitraAx41ysM%252C_&vet=1&usg=AI4_-kQJh6BCNLK4MtKnjyTbbeNiORvXUA&sa=X&ved=2ahUKEwib1OeMwNzyAhUyJDQIHUFrDloQ_h16BAgdEAE#imgrc=qSA2ptETwgeNkM)\n",
        "\n",
        "</br>\n",
        "\n",
        "The sequence goes like this:\n",
        "\n",
        "$f_n = 1, 1, 2, 3, 5, 8, 13, 21$\n",
        "\n",
        "</br>\n",
        "\n",
        "Try to figure out what the rules of the sequence is before looking at the answer. What operation is needed to get $f_{n}$ from $f_{n-1}$\n",
        "\n",
        "</br>\n",
        "\n",
        "<details><summary>CLICK HERE TO VIEW THE ANSWER</summary>\n",
        "<p>\n",
        "\n",
        "</br>\n",
        "Start at $1$. (Imply that $f_0 = 0$)\n",
        "\n",
        "$f_1 = 1$\n",
        "\n",
        "for $n > 1$:\n",
        "\n",
        "$f_n = f_{n-1} + f_{n-2}$\n",
        "\n",
        "</br>\n",
        "\n",
        "### What does this mean? \n",
        "\n",
        "For every $f_n$ when $n>1$, $f_n$ is equal to the addition of the previous 2 numbers in the sequence.\n",
        "\n",
        "</p>\n",
        "</details>\n",
        "\n",
        "</hr>\n",
        "\n",
        "#### This is an ideal construct for a recursive function. Complete the function I have started for you below:\n",
        "\n",
        "\n",
        "\n"
      ]
    },
    {
      "cell_type": "code",
      "metadata": {
        "id": "v4x8FoH1sqfq"
      },
      "source": [
        "# recursive fibonacci\n",
        "\n",
        "def fibo(n):\n",
        "  # n is the number of elements in the fibonacci sequence\n",
        "\n",
        "  # throw an error if n is not a positive integer\n",
        "  assert isinstance(n, int) and n >= 0, \"Error: highest number to add must be a non-negative integer\"\n",
        "\n",
        "  # put case when n = 1 and return results\n",
        "  if n == 1:\n",
        "\n",
        "\n",
        "  # put case when n > 1, and using the function itself in the results.\n",
        "  # remember: f_n = f_{n-1} + f_{n-2}\n",
        "  elif n > 1:\n",
        "\n",
        "\n",
        "  else:\n",
        "    print(\"Impossible result\")\n",
        "\n",
        "\n"
      ],
      "execution_count": null,
      "outputs": []
    },
    {
      "cell_type": "markdown",
      "metadata": {
        "id": "13a8A0MN4yAn"
      },
      "source": [
        "### Tower of Hanoi"
      ]
    },
    {
      "cell_type": "code",
      "metadata": {
        "colab": {
          "base_uri": "https://localhost:8080/"
        },
        "id": "eG_EUTE8slfD",
        "outputId": "77d729af-b41e-462e-eae5-3a418c094ac9"
      },
      "source": [
        ""
      ],
      "execution_count": null,
      "outputs": [
        {
          "output_type": "stream",
          "name": "stdout",
          "text": [
            "13\n"
          ]
        }
      ]
    }
  ]
}