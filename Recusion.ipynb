{
  "nbformat": 4,
  "nbformat_minor": 0,
  "metadata": {
    "colab": {
      "name": "Recusion.ipynb",
      "provenance": [],
      "authorship_tag": "ABX9TyNrEDHXzIE055T8mLpHnrC8",
      "include_colab_link": true
    },
    "kernelspec": {
      "name": "python3",
      "display_name": "Python 3"
    },
    "language_info": {
      "name": "python"
    }
  },
  "cells": [
    {
      "cell_type": "markdown",
      "metadata": {
        "id": "view-in-github",
        "colab_type": "text"
      },
      "source": [
        "<a href=\"https://colab.research.google.com/github/davin67/Practice-AppProject/blob/main/Recusion.ipynb\" target=\"_parent\"><img src=\"https://colab.research.google.com/assets/colab-badge.svg\" alt=\"Open In Colab\"/></a>"
      ]
    },
    {
      "cell_type": "markdown",
      "metadata": {
        "id": "CeUX-2bmb5PB"
      },
      "source": [
        "### Intro to recursion.\n",
        "\n",
        "\n",
        "**What is recursion?**\n",
        "Recursion is a central concept in programming. Typically, you will use recursion in a similar way that you would a `for` loop. It is a way to perform a small task repeatedly over a task.\n"
      ]
    },
    {
      "cell_type": "code",
      "metadata": {
        "id": "3VofYh3JboEj"
      },
      "source": [
        ""
      ],
      "execution_count": null,
      "outputs": []
    },
    {
      "cell_type": "markdown",
      "metadata": {
        "id": "S7Dpsw7nz4Mw"
      },
      "source": [
        "### Example - simple recursive addition\n",
        "\n",
        "----\n",
        "\n",
        "Compute the sum of 1 to $n$ recursively:\n",
        "\n",
        "Base case is when $n = 1$:\n",
        "- sum for first 1 number from (1 to 1) is 1\n",
        "\n",
        "General case is when $n = n$, for n > 1:\n",
        "\n",
        "- Sum of 1 to $x_{n-1} + x_n $  \n"
      ]
    },
    {
      "cell_type": "code",
      "metadata": {
        "id": "T4yeSYQ-b36q"
      },
      "source": [
        "def recursive_sum(first = 1, last = 1, total = 0):\n",
        "  assert last >= first, \"Error: the first number must be larger or equal to the last number\"\n",
        "  if last == first:\n",
        "    total = total + last\n",
        "    print(total)\n",
        "\n",
        "  else:\n",
        "    total = total + last\n",
        "    recursive_sum(first, last - 1, total)\n",
        "    \n",
        "    "
      ],
      "execution_count": 23,
      "outputs": []
    },
    {
      "cell_type": "code",
      "metadata": {
        "id": "NlI8OqSW5WAC",
        "outputId": "92da4ff7-8fc7-4cd5-d548-ac25bd851586",
        "colab": {
          "base_uri": "https://localhost:8080/"
        }
      },
      "source": [
        "recursive_sum(2, 3)"
      ],
      "execution_count": 26,
      "outputs": [
        {
          "output_type": "stream",
          "text": [
            "5\n"
          ],
          "name": "stdout"
        }
      ]
    }
  ]
}