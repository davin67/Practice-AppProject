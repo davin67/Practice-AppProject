{
  "nbformat": 4,
  "nbformat_minor": 0,
  "metadata": {
    "colab": {
      "name": "Recusion.ipynb",
      "provenance": [],
      "authorship_tag": "ABX9TyPUTi388hL8oiIcbjHAAjwZ",
      "include_colab_link": true
    },
    "kernelspec": {
      "name": "python3",
      "display_name": "Python 3"
    },
    "language_info": {
      "name": "python"
    }
  },
  "cells": [
    {
      "cell_type": "markdown",
      "metadata": {
        "id": "view-in-github",
        "colab_type": "text"
      },
      "source": [
        "<a href=\"https://colab.research.google.com/github/davin67/Practice-AppProject/blob/main/Recusion.ipynb\" target=\"_parent\"><img src=\"https://colab.research.google.com/assets/colab-badge.svg\" alt=\"Open In Colab\"/></a>"
      ]
    },
    {
      "cell_type": "markdown",
      "metadata": {
        "id": "CeUX-2bmb5PB"
      },
      "source": [
        "### Intro to recursion.\n",
        "\n",
        "\n",
        "**What is recursion?**\n",
        "Recursion is a central concept in programming. Typically, you will use recursion in a similar way that you would a `for` loop. It is a way to perform a small task repeatedly over a task.\n"
      ]
    },
    {
      "cell_type": "code",
      "metadata": {
        "id": "3VofYh3JboEj"
      },
      "source": [
        ""
      ],
      "execution_count": null,
      "outputs": []
    },
    {
      "cell_type": "code",
      "metadata": {
        "id": "T4yeSYQ-b36q"
      },
      "source": [
        ""
      ],
      "execution_count": null,
      "outputs": []
    }
  ]
}